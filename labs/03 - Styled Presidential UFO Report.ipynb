{
 "cells": [
  {
   "cell_type": "markdown",
   "id": "0212e7e8-b2ff-4c5c-b65e-13efb7853265",
   "metadata": {},
   "source": [
    "# Our First Speech\n",
    "\n",
    "We're going to create our speech in the style of the Abraham Lincoln. Specifically, we'll\n",
    "use the following template. We've taken our example from the Gettysburg Address."
   ]
  },
  {
   "cell_type": "code",
   "execution_count": 7,
   "id": "768ccb74-69e3-4d14-9b1e-2e41a5422ab8",
   "metadata": {},
   "outputs": [
    {
     "name": "stdout",
     "output_type": "stream",
     "text": [
      "Note: you may need to restart the kernel to use updated packages.\n"
     ]
    }
   ],
   "source": [
    "%pip install -q vectara-speech-helper==0.0.3"
   ]
  },
  {
   "cell_type": "code",
   "execution_count": 32,
   "id": "24c700c2-26bc-43ca-9bec-94cd03ada49c",
   "metadata": {},
   "outputs": [],
   "source": [
    "from pathlib import Path\n",
    "path = Path(\"./resources/lincoln_example.txt\")\n",
    "with open(path, 'r', encoding='UTF-8') as f:\n",
    "    example_content = f.read().replace(\"\\\"\",\"'\")"
   ]
  },
  {
   "cell_type": "markdown",
   "id": "2682f20a-ce80-4382-ba35-45d898795f2c",
   "metadata": {},
   "source": [
    "## Lets Render this in Markdown\n",
    "We'll use Jupyter's native ability to render markdown to see this speech a little better presented."
   ]
  },
  {
   "cell_type": "code",
   "execution_count": 33,
   "id": "6ea21d82-83c0-4a5a-89f4-ef1cad61b622",
   "metadata": {},
   "outputs": [
    {
     "data": {
      "text/markdown": [
       "> I do not consider it necessary at present for me to discuss those matters of administration about which there is no special anxiety or excitement.\n",
       "> Apprehension seems to exist among the people of the Southern States, that by the accession of a Republican Administration, their property, and their peace, and personal security, are to be endangered. There has never been any reasonable cause for such apprehension. Indeed, the most ample evidence to the contrary has all the while existed, and been open to their inspection. It is found in nearly all the published speeches of him who now addresses you. I do but quote from one of those speeches when I declare that 'I have no purpose, directly or indirectly, to interfere with the institution of slavery in the States where it exists. I believe I have no lawful right to do so, and I have no inclination to do so.' Those who nominated and elected me did so with full knowledge that I had made this, and many similar declarations, and had never recanted them. And more than this, they placed in the platform, for my acceptance, and as a law to themselves, and to me, the clear and emphatic resolution which I now read:\n",
       "> 'Resolved, That the maintenance inviolate of the rights of the States, and specially the right of each State to order and control its own domestic institutions according to its own judgment exclusively, is essential to that balance of power on which the perfection and endurance of our political fabric depend; and we denounce the lawless invasion by armed force of the soil of any State or Territory, no matter under what pretext, as among the gravest of crimes.'\n",
       "> I now reiterate these sentiments: and in doing so, I only press upon the public attention the most conclusive evidence of which the case is susceptible, that the property, peace and security of no section are to be any wise endangered by the now incoming Administration. I add too, that al the protection which, consistently with the Constitution and the laws, can be given, will be cheerfully given to all the States when lawfully demanded, for whatever cause-as cheerfully to one section as to another.\n",
       "> There is much controversy about the delivering up of fugitives from service or labor. The clause I now read is as plainly written in the Constitution as any other of its provisions:\n",
       "> 'No person held to service or labor in one State, under the laws thereof, escaping into another, shall, in consequence of any law or regulation therein, be discharged from such service or labor, but shall be delivered up on claim of the party to whom such service or labor may be due.'\n",
       "> It is scarcely questioned that this provision was intended by those who made it, for the reclaiming of what we call fugitive slaves; and the intention of the law-giver is the law. All members of Congress swear their support to the whole Constitution-to this provision as much as to any other. To the proposition, then, that slaves whose cases come within the terms of this clause, 'shall be delivered up,' their oaths are unanimous. Now, if they would make the effort in good temper, could they not, with nearly equal unanimity, frame, and pass a law, by means of which to keep good that unanimous oath?\n",
       "> There is some difference of opinion whether this clause should be enforced by national or by state authority; but surely that difference is not a very material one. IF the slave is to be surrendered, it can be of but little consequence to him, or to others, by which authority it is done. And should any one, in any case, by content that his oath shall go unkept, on a merely unsubstantial controversy as to how it shall be kept?\n",
       "> Again, in any law upon this subject, ought not all the safeguards of liberty known in civilized and humane jurisprudence to be introduced, so that a free man be not, in any case, surrendered as a salve? And might it not be well, at the same time to provide by law for the enforcement of that clause in the Constitution which guarantees that 'the citizens of each State shall be entitled to all privileges and immunities of citizens in the several States'?\n",
       "> "
      ],
      "text/plain": [
       "<IPython.core.display.Markdown object>"
      ]
     },
     "metadata": {},
     "output_type": "display_data"
    }
   ],
   "source": [
    "from IPython.display import display, Markdown\n",
    "\n",
    "temp = \"> \" + example_content.replace(\"\\n\", \"\\n> \").replace(\"$\", \"\\\\\\\\$\").replace(\"\\\"\",\"'\")\n",
    "display(Markdown(temp))"
   ]
  },
  {
   "cell_type": "markdown",
   "id": "8f981006-f19b-48fa-bb00-66e2b4020066",
   "metadata": {},
   "source": [
    "## Lets Write our Speech\n",
    "We'll now write our speech, talking about the impending flood and using our flood watch notice as our basis."
   ]
  },
  {
   "cell_type": "code",
   "execution_count": 34,
   "id": "5af7b324-2e5e-411b-a10e-589bf333e2ef",
   "metadata": {},
   "outputs": [
    {
     "name": "stderr",
     "output_type": "stream",
     "text": [
      "ufo_report.txt: 3.06kB [00:01, 2.18kB/s]                                                                             \n",
      "ufo_report-checkpoint.txt: 3.07kB [00:01, 2.08kB/s]                                                                  \n"
     ]
    }
   ],
   "source": [
    "from vectara_speech import SpeechHelper\n",
    "\n",
    "helper = SpeechHelper(\"Do not attack UFOs\",\n",
    "                      type_of_speech=\"Military briefing which should be written in a similar manner but not the same words\",\n",
    "                      corpus_path=\"resources/ufo_declassified\",\n",
    "                      example_text=example_content)\n",
    "resp = helper.build_speech()"
   ]
  },
  {
   "cell_type": "code",
   "execution_count": 35,
   "id": "66a504d8-eefd-42c2-83c1-9660b5ceaec4",
   "metadata": {},
   "outputs": [
    {
     "data": {
      "text/markdown": [
       "> In light of recent events involving unidentified flying objects (UFOs), it has become imperative to address this subject with utmost seriousness. In the past, there have been instances where military units, in a state of panic or fear, have attacked these unidentified entities. However, such actions have had severe repercussions, as reported by a case from Siberia[3]. \n",
       "> \n",
       "> According to classified material from the KGB, a military unit during routine training maneuvers unexpectedly launched a surface-to-air missile and struck a UFO[4]. The aftermath of this incident was nothing short of a disaster. The UFO crash-landed not far from the unit, and five humanoid beings emerged from it. These beings, described as having large heads and large black eyes, merged into a single spherical object[5]. The object turned bright white and started to buzz and hiss sharply, leading to unforeseen consequences. \n",
       "> \n",
       "> This incident underscores the importance of not engaging in hostilities with UFOs. It is clear that we are dealing with entities that possess advanced technology, far beyond our current understanding. Attacking these entities only brings about catastrophic outcomes. \n",
       "> \n",
       "> Instead, our efforts should focus on peaceful co-existence and understanding. We should strive to learn from these entities, to unlock the secrets of the universe that they have already discovered. It is an opportunity for humanity to advance in ways that were previously unthinkable. \n",
       "> \n",
       "> In conclusion, the directive is clear: Do not attack UFOs. Let us learn from past incidents and strive to embrace these unknown entities peacefully, with an open mind and a thirst for knowledge. We must remember that we are living in an era where we are not alone in the universe. It is our responsibility to ensure that we co-exist peacefully with other beings in this vast cosmos, for the betterment of universal harmony and advancement."
      ],
      "text/plain": [
       "<IPython.core.display.Markdown object>"
      ]
     },
     "metadata": {},
     "output_type": "display_data"
    }
   ],
   "source": [
    "summary = resp.summary[0].text\n",
    "formatted_summary = \"> \" + summary.replace(\"\\n\", \"\\n> \").replace(\"$\", \"\\\\\\\\$\")\n",
    "display(Markdown(formatted_summary))"
   ]
  },
  {
   "cell_type": "code",
   "execution_count": null,
   "id": "4daf6754-d780-4628-9d26-fbbd0d76ee88",
   "metadata": {},
   "outputs": [],
   "source": [
    "# Lets make it a little less wordy\n",
    "The first was definitely inspirational but if we're talking to soldiers we may need to be more abrupt in our language."
   ]
  },
  {
   "cell_type": "code",
   "execution_count": 37,
   "id": "42701c5a-e954-45ba-928f-27fec2ed8b39",
   "metadata": {},
   "outputs": [
    {
     "name": "stderr",
     "output_type": "stream",
     "text": [
      "ufo_report.txt: 3.06kB [00:01, 1.97kB/s]                                                                             \n",
      "ufo_report-checkpoint.txt: 3.07kB [00:01, 2.21kB/s]                                                                  \n"
     ]
    },
    {
     "data": {
      "text/markdown": [
       "> # Do Not Attack UFOs\n",
       "> \n",
       "> In the recent times, we have seen a surge in sightings of Unidentified Flying Objects (UFOs), leading to speculation and fear among the general public and military personnel. It is important to clarify our stance on this matter and to relay instructions to all soldiers on the appropriate course of action in case of a UFO sighting [1]. \n",
       "> \n",
       "> UFOs, by their very definition, are unidentified. This implies that we do not have sufficient information about their origins, intentions, or capabilities. Therefore, it is of utmost importance that we approach these sightings with caution, curiosity, and a commitment to peace. Attacking a UFO could have unforeseen consequences, including triggering an unnecessary conflict with unknown entities. \n",
       "> \n",
       "> An incident from the past serves as a stark reminder of the potential risk of offensive actions against UFOs. As reported by the authoritative magazine Canadian Weekly World News, U.S. intelligence obtained a 250-page file on an attack by a UFO on a military unit in Siberia [2]. After a surface-to-air missile hit the UFO, it fell to Earth, and five short humanoids with \"large heads and large black eyes\" emerged from it. These entities merged into a single object that became brilliant white, demonstrating an advanced form of technology or ability that we do not yet understand [3][4][5]. \n",
       "> \n",
       "> This accounts highlights the importance of non-aggressive engagement with UFOs. We should strive to learn more about these entities instead of resorting to violence. Until we have a better understanding of UFOs, all military personnel are instructed to avoid attacking UFOs and to instead focus on observation, documentation, and reporting of these sightings. \n",
       "> \n",
       "> In conclusion, it is vital that we approach UFO sightings with a peaceful and inquisitive mindset. We must remember that our actions could have far-reaching implications not only for our own safety, but potentially for humanity as a whole."
      ],
      "text/plain": [
       "<IPython.core.display.Markdown object>"
      ]
     },
     "metadata": {},
     "output_type": "display_data"
    }
   ],
   "source": [
    "helper = SpeechHelper(\"Do not attack UFOs\",\n",
    "                      type_of_speech=\"Crisp memo to soldiers which details clear guidelines in a list of orders in Markdown format.\",\n",
    "                      corpus_path=\"resources/ufo_declassified\",\n",
    "                      example_text=example_content)\n",
    "resp = helper.build_speech()\n",
    "summary = resp.summary[0].text\n",
    "formatted_summary = \"> \" + summary.replace(\"\\n\", \"\\n> \").replace(\"$\", \"\\\\\\\\$\")\n",
    "display(Markdown(formatted_summary))"
   ]
  },
  {
   "cell_type": "markdown",
   "id": "d1f663af-b183-4120-abb9-03b61406a367",
   "metadata": {},
   "source": [
    "# Now Lets Hear a Roaring Speech Around the Campfire\n",
    "\n",
    "Now lets imagine Honest Abe telling this tale around the campfire to some fine fellows."
   ]
  },
  {
   "cell_type": "code",
   "execution_count": 39,
   "id": "f8888bbb-bf65-4d9b-8f22-4a96833797bd",
   "metadata": {},
   "outputs": [
    {
     "name": "stderr",
     "output_type": "stream",
     "text": [
      "ufo_report.txt: 3.06kB [00:02, 1.17kB/s]                                                                             \n",
      "ufo_report-checkpoint.txt: 3.07kB [00:02, 1.22kB/s]                                                                  \n"
     ]
    },
    {
     "data": {
      "text/markdown": [
       "> A tale of foolish pride unfolded in the remote corners of Siberia, involving the most unlikely of characters - extraterrestrial beings. The incident, according to a 250-page file obtained by U.S. Intelligence, serves as a stark reminder of the repercussions of misguided arrogance [5].\n",
       "> \n",
       "> The tale begins amidst a mundane training exercise conducted by a military unit, their routine disrupted by the appearance of a saucer-shaped spaceship hovering low in the sky. The sight of the spaceship, an emblem of advanced technology and intelligence, seemed to have triggered a sense of insecurity and pride among the soldiers below. Ignoring the potential for peaceful interaction, they launched a surface-to-air missile, striking the UFO [5].\n",
       "> \n",
       "> The damaged spaceship fell to earth, and from its wreckage emerged five short humanoids characterized by large heads and black eyes. The reaction of the alien beings was not one of aggression, but rather a display of their own advanced technology. They retaliated, not with conventional weapons, but with a source of energy still unknown to Earthlings [5].\n",
       "> \n",
       "> This unknown energy instantly changed the molecular structure of the soldiers, transforming them into limestone-like statues. This act, according to a CIA representative, was \"a horrific picture of revenge on the part of extraterrestrial creatures, a picture that makes one's blood freeze\" [5].\n",
       "> \n",
       "> The incident serves as a vivid cautionary tale of how pride and fear can lead to unfortunate confrontations, even with beings from other worlds. Instead of opening doors for understanding and cooperation, the soldiers' rash actions ended in a chilling display of their own vulnerability. The tale reminds us that pride, especially in the face of the unknown, can have unforeseen and disastrous consequences. \n",
       "> \n",
       "> In conclusion, this tale of foolish pride involving aliens serves as a stark reminder that humility and understanding should guide our interactions, not only with each other but also with potential extraterrestrial beings."
      ],
      "text/plain": [
       "<IPython.core.display.Markdown object>"
      ]
     },
     "metadata": {},
     "output_type": "display_data"
    }
   ],
   "source": [
    "helper = SpeechHelper(\"A tale of foolish pride involving aliens\",\n",
    "                      type_of_speech=\"A tale around a campfire.\",\n",
    "                      corpus_path=\"resources/ufo_declassified\",\n",
    "                      example_text=example_content)\n",
    "resp = helper.build_speech()\n",
    "summary = resp.summary[0].text\n",
    "formatted_summary = \"> \" + summary.replace(\"\\n\", \"\\n> \").replace(\"$\", \"\\\\\\\\$\")\n",
    "display(Markdown(formatted_summary))"
   ]
  }
 ],
 "metadata": {
  "kernelspec": {
   "display_name": "Python 3 (ipykernel)",
   "language": "python",
   "name": "python3"
  },
  "language_info": {
   "codemirror_mode": {
    "name": "ipython",
    "version": 3
   },
   "file_extension": ".py",
   "mimetype": "text/x-python",
   "name": "python",
   "nbconvert_exporter": "python",
   "pygments_lexer": "ipython3",
   "version": "3.12.1"
  }
 },
 "nbformat": 4,
 "nbformat_minor": 5
}
