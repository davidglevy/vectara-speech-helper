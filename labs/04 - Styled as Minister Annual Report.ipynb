{
 "cells": [
  {
   "cell_type": "markdown",
   "id": "0212e7e8-b2ff-4c5c-b65e-13efb7853265",
   "metadata": {},
   "source": [
    "# Our First Speech\n",
    "\n",
    "We're going to create our speech in the style of the Abraham Lincoln. Specifically, we'll\n",
    "use the following template. We've taken our example from the Gettysburg Address."
   ]
  },
  {
   "cell_type": "code",
   "execution_count": 2,
   "id": "768ccb74-69e3-4d14-9b1e-2e41a5422ab8",
   "metadata": {},
   "outputs": [
    {
     "name": "stdout",
     "output_type": "stream",
     "text": [
      "Note: you may need to restart the kernel to use updated packages.\n"
     ]
    }
   ],
   "source": [
    "%pip install -q vectara-speech-helper==0.0.3"
   ]
  },
  {
   "cell_type": "code",
   "execution_count": 3,
   "id": "24c700c2-26bc-43ca-9bec-94cd03ada49c",
   "metadata": {},
   "outputs": [],
   "source": [
    "from pathlib import Path\n",
    "path = Path(\"./resources/australian_minister.txt\")\n",
    "with open(path, 'r', encoding='UTF-8') as f:\n",
    "    example_content = f.read().replace(\"\\\"\",\"'\")"
   ]
  },
  {
   "cell_type": "markdown",
   "id": "2682f20a-ce80-4382-ba35-45d898795f2c",
   "metadata": {},
   "source": [
    "## Lets Render this in Markdown\n",
    "We'll use Jupyter's native ability to render markdown to see this speech a little better presented."
   ]
  },
  {
   "cell_type": "code",
   "execution_count": 4,
   "id": "6ea21d82-83c0-4a5a-89f4-ef1cad61b622",
   "metadata": {},
   "outputs": [
    {
     "data": {
      "text/markdown": [
       "> Introduction\n",
       "> Thank you, James, for the kind introduction and good morning everyone.\n",
       "> \n",
       "> It is a great pleasure to be here with you all today.\n",
       "> \n",
       "> I would like to begin by acknowledging the Traditional Custodians of the land we are meeting on, the Gadigal People of the Eora nation, and pay my respects to their Elders, past, present and emerging.\n",
       "> \n",
       "> I would like to pay my respects to any other Aboriginal and Torres Strait Islander people who are here today.\n",
       "> \n",
       "> On behalf of the Albanese Government, I recommit to the implementation of the Uluru statement from the heart in full, and I acknowledge the Law Council’s longstanding support for a Voice enshrined in the Constitution.\n",
       "> \n",
       "> On the 22nd of May last year, the new Government inherited a migration system in disarray.\n",
       "> \n",
       "> A migration system collapsing under the weight of nine years of neglect, a department picked apart, and a drift towards temporary visas leaving individuals, families and business with a sense of uncertainty.\n",
       "> \n",
       "> This was exacerbated by a disposition to the law, and the rule of law, which can be best described as contemptuous, and which would fail any Australian Values test.\n",
       "> \n",
       "> Almost a year ago to this day, the former Minister for Immigration gave an address to this conference. \n",
       "> \n",
       "> He criticised those in this room for assisting clients to lodge appeals, arguing that it was the fault of lawyers that the AAT and the courts experienced backlog.\n",
       "> \n",
       "> He went on to accuse lawyers of spending too much time in detention centres, arguing that some are focused on profiting off the misery of detainees.\n",
       "> \n",
       "> This was a wholly unworthy contribution, which demands a correction.\n",
       "> \n",
       "> Let me be clear: I couldn’t disagree with him more.\n",
       "> \n",
       "> And this Government couldn’t be more different in our attitude towards public administration.\n",
       "> \n",
       "> Visa applications\n",
       "> This Government understands that administering the law responsibly begins with processing visas in a timely manner.\n",
       "> \n",
       "> When we came to Government, there were almost one million visas waiting for us in the Department’s in-tray.\n",
       "> \n",
       "> We often hear about the economic impacts of this- but as I’m sure many of you know all too well, the social and human impacts were just as severe.\n",
       "> \n",
       "> Families separated from loved ones.\n",
       "> \n",
       "> Permanent visa applicants left in limbo, unable to get a loan to buy a house or start their own business.\n",
       "> \n",
       "> Local businesses forced to close their doors because of workforce shortages.\n",
       "> \n",
       "> The border closure afforded the former Liberal government a chance to get our migration system back on track.\n",
       "> \n",
       "> And they should have seen this aspect of the pandemic as an opportunity.\n",
       "> \n",
       "> An opportunity to turn away from a period of neglect of the immigration function of national government, and to prepare for the inevitable rush of visa applications once the borders opened.\n",
       "> \n",
       "> They wasted that chance.\n",
       "> \n",
       "> This goes beyond inattention or even negligence.\n",
       "> \n",
       "> Their failure to ensure visa decisions were made in a timely manner wasn’t in keeping with their statutory obligations. \n",
       "> \n",
       "> Section 47 of the Migration Act dictates that the Minister has a lawful duty to make decisions on visa applications.\n",
       "> \n",
       "> By leaving almost one million visa applications undecided by the middle of last year, the former government abrogated this duty\n",
       "> \n",
       "> Whether the outcome of a visa application is to grant or refuse, it is incumbent on government to act responsibly and facilitate the visa application process.\n",
       "> \n",
       "> That is fundamental.\n",
       "> \n",
       "> A migration system that leaves people in limbo undermines the integrity that our migration system should be built upon.\n",
       "> \n",
       "> A migration system that facilitates this human uncertainty reduces Australia’s attractiveness on the world stage and harms our national interest.\n",
       "> \n",
       "> This Government is committed to restoring a migration system founded on integrity and certainty.\n",
       "> \n",
       "> We’re turning the page on a decade of stagnation, and have made substantial progress so far as a result of streamlining measures and the engagement of more than 580 staff members in visa processing roles.\n",
       "> \n",
       "> As of the end of February, more than 5.4 million temporary and migration visas have been finalised since we came to government.\n",
       "> \n",
       "> The visa backlog has been reduced, down from almost one million to under 600,000.\n",
       "> \n",
       "> Temporary skilled visas, essential to filling critical workforce shortages in teaching and care sectors, are being finalised in a matter of days.\n",
       "> \n",
       "> Addressing the backlog means that we can more thoughtfully use the migration system as a nation building tool.\n",
       "> \n",
       "> So that we can shape a labour market for the future, rather than playing catch up.\n",
       "> \n",
       "> So that we can, through the Migration Review, reconsider a first principles approach to our immigration system.\n",
       "> \n",
       "> The important of effective review mechanisms\n",
       "> Good migration outcomes rely on not only efficient visa processing, but a Department that makes consistent, accurate visa decisions.\n",
       "> \n",
       "> The importance of adequate resourcing of the Department cannot be overstated in ensuring proper public administration of our migration system, nor can our support of the people who undertake this important work.\n",
       "> \n",
       "> Our \\\\$36 million investment announced at the Jobs and Skills summit shows our strong commitment to this.\n",
       "> \n",
       "> But this isn’t the end of the story.\n",
       "> \n",
       "> The interaction between Departmental decision making and a fair review system is incredibly important, especially right now.\n",
       "> \n",
       "> Throughout an individual’s migration journey, they should be afforded access to a justice system that is fair and timely.\n",
       "> \n",
       "> Currently, the AAT is neither.\n",
       "> \n",
       "> The stagnation of cases at the AAT, and in the courts, has led to visa cases dragging on for many years, rather than weeks or months.\n",
       "> \n",
       "> By the time that some individuals have their cases finally refused, their circumstances have often changed - they may have already put down roots in Australia, had children who will soon become citizens or surpassed the cut-off age for the visa they originally applied for.\n",
       "> \n",
       "> As a result of a decade of political appointments the reputation of the AAT has been eroded. Justice delayed is justice denied.\n",
       "> \n",
       "> And justice delayed is the story right across the Tribunal. It’s particularly the story in the Veterans’ Appeals Division, the NDIS Division and the Migration and Refugee Division.\n",
       "> \n",
       "> Justice delayed is one of the reasons why the Attorney General made the decision to abolish the AAT.\n",
       "> \n",
       "> We will establish a new administrative review body that is efficient, accessible, and independent.\n",
       "> \n",
       "> As part of this reform, the Government has committed over \\\\$63 million for an additional 75 members to get on top of the current backlog of cases.\n",
       "> \n",
       "> A transparent and merit-based selection process will be established for the appointment of non-judicial members, which will result in timely, and crucially, accurate decision making.\n",
       "> \n",
       "> Effective merits review is a crucial pillar of democratic public administration.\n",
       "> \n",
       "> It should provide the public with confidence that the Government will be kept accountable for the decisions it makes every year.\n",
       "> \n",
       "> Decisions which shape lives and our nation.\n",
       "> \n",
       "> There are currently approximately 55,000 Migration and Refugee visa applicants waiting on outcomes from the AAT. This is 82.5% of the total AAT caseload.\n",
       "> \n",
       "> Now, 58% of the total workload of the AAT is made up of the permanent onshore protection caseload alone.\n",
       "> \n",
       "> We can’t just ignore the challenge posed by the large, and growing, number of onshore claims for protection lodged in Australia.\n",
       "> \n",
       "> Not just for what this means for the individual cases of those owed our protection- but the system as a whole, including those who may have been subjected to labour trafficking or exploitation.\n",
       "> \n",
       "> We have a shared responsibility to create an effective, and efficient, framework that can navigate these complexities, and provide just outcomes.\n",
       "> \n",
       "> With more than two million people in the world estimated to be in urgent need of resettlement this year, we also need to work together to advance our Convention obligations.\n",
       "> \n",
       "> We need to both recognise, and respond to, the threats to a cooperative international response that is commensurate with the reality of the displacement crisis.\n",
       "> \n",
       "> Importantly, we must also recognise that in the Australian context, our capacity to get the policy responses right has been deliberately diminished- through a recourse to cheap, divisive and misleading slogans. And even through introducing such terms into legislation.\n",
       "> \n",
       "> But this Government has been taking a different approach.\n",
       "> \n",
       "> Working towards ending this pointless and destructive race to the bottom, that has diminished us.\n",
       "> \n",
       "> I believe that we can maintain a secure border, and offer compassion to those forced to flee their homes.\n",
       "> \n",
       "> And that we can play a positive role in building a stronger global protection and resettlement framework.\n",
       "> \n",
       "> Including through increasing the size of our humanitarian intake and expanding our complementary pathways, to provide safe passages for refugees to come to Australia.\n",
       "> \n",
       "> Pathways to permanency\n",
       "> We know that in order to get our system back on track, we can’t stop at addressing the visa backlog we inherited.\n",
       "> \n",
       "> We have to reshape our migration system into one that is fit for purpose and acknowledges that Australia is in a global race for talent.\n",
       "> \n",
       "> A pathway to permanency is paramount if we want to continue to attract the world’s best and brightest to call Australia home.\n",
       "> \n",
       "> One such example is the former Liberal Government’s approach to the permanent Skilled Regional visa, subclass 887.\n",
       "> \n",
       "> In my time as Minister, I have received thousands of inquiries about the status of 887 visa applications from people living in regional communities across Australia on provisional and bridging visas.\n",
       "> \n",
       "> In many senses, these people have had their lives placed on hold due to the deliberate decision not to process their visa applications.\n",
       "> \n",
       "> Under the former Liberal government, the number of 887 visa applications grew each week, as more applications arrived while only a small number were processed. Fewer than 400 of these visas were finalised in the last three months of the former Government.\n",
       "> \n",
       "> There were over 18,000 887 visa applications waiting in the in-tray when we came to Government.\n",
       "> \n",
       "> We have placed 887 visas on the priority list, and the Department has now finalised more than 15,000 of these applications.\n",
       "> \n",
       "> This Government’s commitment to ending the limbo in people’s lives includes those who have been found to be owed Australia’s protection.\n",
       "> \n",
       "> Just over a month ago, the Government announced a pathway to permanency for TPV/SHEV holders.\n",
       "> \n",
       "> This announcement includes a pathway for all those in the cohort who are ultimately found to be owed protection.\n",
       "> \n",
       "> In making this announcement, we recognise the importance of a visa application process that is reliable and accessible.\n",
       "> \n",
       "> That’s why we’ve set up an online portal for Resolution of Status visa applicants, which will soon go live, to make lodgement of applications as easy and accessible as possible, and committed more than \\\\$9 million to fund application assistance across the country. \n",
       "> \n",
       "> I’m pleased to announce that as of today, following the appropriate checks, more than 100 former TPV or SHEV holders have now been granted a Resolution of Status visa.\n",
       "> \n",
       "> For this cohort, their permanent status means that they will be able to access things that most of us take for granted- NDIS support for those living with disabilities, access to Commonwealth Support to further our education, and to reunite with family members.\n",
       "> \n",
       "> I’m very appreciative of the dialogue I have with the Law Council of Australia and the critical role you play - as I have been throughout my time in parliament.\n",
       "> \n",
       "> As someone who cares deeply about the state of our democratic institutions, and who is determined to work with my colleagues, in particular the Attorney-General, to restore trust and confidence in them.\n",
       "> \n",
       "> As a former lawyer, who acted in judicial review proceedings on behalf of people seeking asylum.\n",
       "> \n",
       "> And now as the most sued person in the country!\n",
       "> \n",
       "> Immigration decisions are big decisions.\n",
       "> \n",
       "> For all concerned.\n",
       "> \n",
       "> I’m concerned to see them made better.\n",
       "> \n",
       "> At the first instance - and through any review processes.\n",
       "> \n",
       "> I want to facilitate, not constrain, public debate around this.\n",
       "> \n",
       "> Because the stakes are so high.\n",
       "> \n",
       "> Lawyers play a vital role in helping people navigate our immigration systems, and also in challenging how it operates.\n",
       "> \n",
       "> Both matter.\n",
       "> \n",
       "> The change of approach, and change of tone, I’ve talked about here does not - of course - guarantee particular outcomes.\n",
       "> \n",
       "> But I strongly suggest that these are the preconditions for policy change, and policy change that is enduring.\n",
       "> \n",
       "> In our national interest, as a compassionate, outward-looking nation built on migration and through the contributions of nearly one million refugees since WW2, and in the interest of those countless millions who depend on us doing better."
      ],
      "text/plain": [
       "<IPython.core.display.Markdown object>"
      ]
     },
     "metadata": {},
     "output_type": "display_data"
    }
   ],
   "source": [
    "from IPython.display import display, Markdown\n",
    "\n",
    "temp = \"> \" + example_content.replace(\"\\n\", \"\\n> \").replace(\"$\", \"\\\\\\\\$\").replace(\"\\\"\",\"'\")\n",
    "display(Markdown(temp))"
   ]
  },
  {
   "cell_type": "markdown",
   "id": "8f981006-f19b-48fa-bb00-66e2b4020066",
   "metadata": {},
   "source": [
    "## Let's Write our Speech\n",
    "We'll now write our speech, talking about the impending flood and using our flood watch notice as our basis."
   ]
  },
  {
   "cell_type": "code",
   "execution_count": 6,
   "id": "5af7b324-2e5e-411b-a10e-589bf333e2ef",
   "metadata": {},
   "outputs": [
    {
     "name": "stderr",
     "output_type": "stream",
     "text": [
      "home-affairs-annual-report-2022-23.pdf: 4.08MB [00:25, 167kB/s]                                                      \n"
     ]
    }
   ],
   "source": [
    "from vectara_speech import SpeechHelper\n",
    "\n",
    "helper = SpeechHelper(\"Australian Government Priorities for Stronger Borders\",\n",
    "                      type_of_speech=\"Meeting to senior executives and policy makers\",\n",
    "                      corpus_path=\"resources/australian_govt\",\n",
    "                      example_text=example_content)\n",
    "resp = helper.build_speech()"
   ]
  },
  {
   "cell_type": "code",
   "execution_count": 7,
   "id": "66a504d8-eefd-42c2-83c1-9660b5ceaec4",
   "metadata": {},
   "outputs": [
    {
     "data": {
      "text/markdown": [
       "> Ladies and Gentlemen,\n",
       "> \n",
       "> Good morning. Today, I would like to discuss an issue of paramount importance - the Australian Government's Priorities for Stronger Borders. Our government's focus on this issue reflects a commitment to protecting the integrity and security of our nation, as well as the prosperity and wellbeing of our citizens.\n",
       "> \n",
       "> In the past year, we have embarked on a comprehensive program of realigning our functional structures to more effectively address threats and seize opportunities in border security[1]. This process is essential to delivering on the government's extensive reform agenda, including our efforts to uplift Australia's cyber security, build national resilience, and develop significant reforms for the future of the Migration Program.\n",
       "> \n",
       "> One of the key initiatives in this regard has been the implementation of Operation Sovereign Borders[2]. This military-led, whole-of-government operation is aimed at combating maritime people smuggling and strengthening our border security. \n",
       "> \n",
       "> However, our focus on border security extends beyond just this. As part of our commitment to public administration, we have prioritized building a workforce that is reflective of the community we serve[3]. This includes people from diverse backgrounds, which ultimately strengthens the effectiveness of our border operations.\n",
       "> \n",
       "> Furthermore, we are working towards ensuring that our humanitarian entrants have the skills and knowledge to use services independently in Australia[4]. This not only helps them to integrate into our society better but also contributes to the overall strength and diversity of our nation.\n",
       "> \n",
       "> Lastly, our approach to border security also involves a strong focus on superannuation for our staff, many of whom are members of the Commonwealth Superannuation Scheme and the Public Sector Superannuation Scheme[5]. This is a key part of ensuring the wellbeing of those who are at the frontline of protecting our borders.\n",
       "> \n",
       "> In conclusion, the Australian Government's Priorities for Stronger Borders involves a multi-faceted approach that includes operational, personnel, and policy elements. Through these measures, we are committed to ensuring the security and prosperity of our great nation. Thank you."
      ],
      "text/plain": [
       "<IPython.core.display.Markdown object>"
      ]
     },
     "metadata": {},
     "output_type": "display_data"
    }
   ],
   "source": [
    "summary = resp.summary[0].text\n",
    "formatted_summary = \"> \" + summary.replace(\"\\n\", \"\\n> \").replace(\"$\", \"\\\\\\\\$\")\n",
    "display(Markdown(formatted_summary))"
   ]
  }
 ],
 "metadata": {
  "kernelspec": {
   "display_name": "Python 3 (ipykernel)",
   "language": "python",
   "name": "python3"
  },
  "language_info": {
   "codemirror_mode": {
    "name": "ipython",
    "version": 3
   },
   "file_extension": ".py",
   "mimetype": "text/x-python",
   "name": "python",
   "nbconvert_exporter": "python",
   "pygments_lexer": "ipython3",
   "version": "3.12.1"
  }
 },
 "nbformat": 4,
 "nbformat_minor": 5
}
