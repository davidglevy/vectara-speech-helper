{
 "cells": [
  {
   "cell_type": "markdown",
   "id": "0212e7e8-b2ff-4c5c-b65e-13efb7853265",
   "metadata": {},
   "source": [
    "# Our First Speech\n",
    "\n",
    "We're going to create our speech in the style of the Mayor of Brisbane. Specifically, we'll\n",
    "use the following template. We've taken this from here: https://www.brisbane.qld.gov.au/about-council/governance-and-strategy/lord-mayors-message"
   ]
  },
  {
   "cell_type": "code",
   "execution_count": 8,
   "id": "768ccb74-69e3-4d14-9b1e-2e41a5422ab8",
   "metadata": {},
   "outputs": [
    {
     "name": "stdout",
     "output_type": "stream",
     "text": [
      "Note: you may need to restart the kernel to use updated packages.\n"
     ]
    }
   ],
   "source": [
    "%pip install -q vectara-speech-helper==0.0.3"
   ]
  },
  {
   "cell_type": "code",
   "execution_count": 9,
   "id": "24c700c2-26bc-43ca-9bec-94cd03ada49c",
   "metadata": {},
   "outputs": [],
   "source": [
    "from pathlib import Path\n",
    "path = Path(\"./resources/mayor_example.txt\")\n",
    "with open(path, 'r', encoding='UTF-8') as f:\n",
    "    example_content = f.read()"
   ]
  },
  {
   "cell_type": "markdown",
   "id": "2682f20a-ce80-4382-ba35-45d898795f2c",
   "metadata": {},
   "source": [
    "## Let's Render this in Markdown\n",
    "We'll use Jupyter's native ability to render markdown to see this speech a little better presented."
   ]
  },
  {
   "cell_type": "code",
   "execution_count": 10,
   "id": "6ea21d82-83c0-4a5a-89f4-ef1cad61b622",
   "metadata": {},
   "outputs": [
    {
     "data": {
      "text/markdown": [
       "> Our Council is committed to helping Brisbane residents tackle rising living costs. That’s why we’re investing \\\\$80 million this year in cost-of-living measures and supporting a growing range of free and affordable events.\n",
       "> \n",
       "> An initiative I’m really excited about is our \\\\$2 Summer Dips. From 1 December, the entry cost to Council’s 22 fantastic pools will drop to just \\\\$2 for adults and children throughout summer.\n",
       "> \n",
       "> There’s no limit. Residents can go as often as they like. For a family of 4, the cost of a trip to their local pool will fall from \\\\$20.15 to just \\\\$8.\n",
       "> \n",
       "> Regardless of whether you’re keen to cool off with the kids or a regular lap swimmer, I hope all residents make the most of our \\\\$2 Summer Dips.\n",
       "> \n",
       "> Adrian Schrinner \n",
       "> Lord Mayor \n",
       "> "
      ],
      "text/plain": [
       "<IPython.core.display.Markdown object>"
      ]
     },
     "metadata": {},
     "output_type": "display_data"
    }
   ],
   "source": [
    "from IPython.display import display, Markdown\n",
    "\n",
    "temp = \"> \" + example_content.replace(\"\\n\", \"\\n> \").replace(\"$\", \"\\\\\\\\$\")\n",
    "display(Markdown(temp))"
   ]
  },
  {
   "cell_type": "markdown",
   "id": "8f981006-f19b-48fa-bb00-66e2b4020066",
   "metadata": {},
   "source": [
    "## Let's Write our Speech\n",
    "We'll now write our speech, talking about the impending flood and using our flood watch notice as our basis."
   ]
  },
  {
   "cell_type": "code",
   "execution_count": 11,
   "id": "5af7b324-2e5e-411b-a10e-589bf333e2ef",
   "metadata": {},
   "outputs": [
    {
     "name": "stderr",
     "output_type": "stream",
     "text": [
      "flood_warning.docx: 17.1kB [00:01, 9.67kB/s]                                                                         \n"
     ]
    }
   ],
   "source": [
    "from vectara_speech import SpeechHelper\n",
    "\n",
    "helper = SpeechHelper(\"Key items of note regarding the upcoming flood\",\n",
    "                      type_of_speech=\"Community Advisory\",\n",
    "                      corpus_path=\"resources/weather_warning\",\n",
    "                      example_text=example_content)\n",
    "resp = helper.build_speech()"
   ]
  },
  {
   "cell_type": "code",
   "execution_count": 12,
   "id": "66a504d8-eefd-42c2-83c1-9660b5ceaec4",
   "metadata": {},
   "outputs": [
    {
     "data": {
      "text/markdown": [
       "> Dear Brisbane Residents,\n",
       "> \n",
       "> As your Lord Mayor, I am committed to ensuring the safety and well-being of our community. I am writing to bring your attention to key items of note regarding the upcoming flood forecasted by the Australian Government Bureau of Meteorology and how the Council is preparing to help mitigate its impact[1].\n",
       "> \n",
       "> Firstly, minor flooding is currently occurring along the Barcoo River downstream of Isisford[2]. The river level at Retreat is steadily at 3.02 metres and is expected to remain above the minor flood level (2.14 m) for the rest of the week[3]. It is crucial for all residents to stay informed about the situation and follow advice from local authorities.\n",
       "> \n",
       "> In response to this, we are launching a Flood Safety Initiative. This initiative is designed to support residents in staying safe and informed during this time of potential flooding. Key to this initiative is the advice – if it's flooded, forget it. Please avoid trying to navigate flooded areas, as this can be incredibly dangerous[5].\n",
       "> \n",
       "> For flood-related emergencies, the State Emergency Service (SES) is available at 132 500[5]. In life-threatening situations, please call Triple Zero (000) immediately. Up-to-date emergency information is also available at www.qld.gov.au/alerts[5].\n",
       "> \n",
       "> At the same time, I want to reassure you that despite this impending natural event, our commitment to improving the quality of life for Brisbane residents remains unwavering. As part of this commitment, we continue to support initiatives like our \\\\$2 Summer Dips, ensuring affordable access to Council’s 22 fantastic pools this summer.\n",
       "> \n",
       "> Together, we can weather this storm. Stay safe and let's look out for each other in these challenging times.\n",
       "> \n",
       "> Adrian Schrinner\n",
       "> Lord Mayor"
      ],
      "text/plain": [
       "<IPython.core.display.Markdown object>"
      ]
     },
     "metadata": {},
     "output_type": "display_data"
    }
   ],
   "source": [
    "summary = resp.summary[0].text\n",
    "formatted_summary = \"> \" + summary.replace(\"\\n\", \"\\n> \").replace(\"$\", \"\\\\\\\\$\")\n",
    "display(Markdown(formatted_summary))"
   ]
  }
 ],
 "metadata": {
  "kernelspec": {
   "display_name": "Python 3 (ipykernel)",
   "language": "python",
   "name": "python3"
  },
  "language_info": {
   "codemirror_mode": {
    "name": "ipython",
    "version": 3
   },
   "file_extension": ".py",
   "mimetype": "text/x-python",
   "name": "python",
   "nbconvert_exporter": "python",
   "pygments_lexer": "ipython3",
   "version": "3.12.1"
  }
 },
 "nbformat": 4,
 "nbformat_minor": 5
}
