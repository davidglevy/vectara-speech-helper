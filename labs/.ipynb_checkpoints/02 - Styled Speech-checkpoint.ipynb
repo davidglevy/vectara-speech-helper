{
 "cells": [
  {
   "cell_type": "markdown",
   "id": "0212e7e8-b2ff-4c5c-b65e-13efb7853265",
   "metadata": {},
   "source": [
    "# Our First Speech\n",
    "\n",
    "We're going to create our speech in the style of the Mayor of Brisbane. Specifically, we'll\n",
    "use the following template. We've taken this from here: https://www.brisbane.qld.gov.au/about-council/governance-and-strategy/lord-mayors-message"
   ]
  },
  {
   "cell_type": "code",
   "execution_count": 18,
   "id": "24c700c2-26bc-43ca-9bec-94cd03ada49c",
   "metadata": {},
   "outputs": [],
   "source": [
    "from pathlib import Path\n",
    "path = Path(\"./resources/mayor_example.txt\")\n",
    "with open(path, 'r', encoding='UTF-8') as f:\n",
    "    example_content = f.read()"
   ]
  },
  {
   "cell_type": "markdown",
   "id": "2682f20a-ce80-4382-ba35-45d898795f2c",
   "metadata": {},
   "source": [
    "## Lets Render this in Markdown\n",
    "We'll use Jupyter's native ability to render markdown to see this speech a little better presented."
   ]
  },
  {
   "cell_type": "code",
   "execution_count": 20,
   "id": "6ea21d82-83c0-4a5a-89f4-ef1cad61b622",
   "metadata": {},
   "outputs": [
    {
     "data": {
      "text/markdown": [
       "> Our Council is committed to helping Brisbane residents tackle rising living costs. That’s why we’re investing \\\\$80 million this year in cost-of-living measures and supporting a growing range of free and affordable events.\n",
       "> \n",
       "> An initiative I’m really excited about is our \\\\$2 Summer Dips. From 1 December, the entry cost to Council’s 22 fantastic pools will drop to just \\\\$2 for adults and children throughout summer.\n",
       "> \n",
       "> There’s no limit. Residents can go as often as they like. For a family of 4, the cost of a trip to their local pool will fall from \\\\$20.15 to just \\\\$8.\n",
       "> \n",
       "> Regardless of whether you’re keen to cool off with the kids or a regular lap swimmer, I hope all residents make the most of our \\\\$2 Summer Dips.\n",
       "> \n",
       "> Adrian Schrinner \n",
       "> Lord Mayor \n",
       "> "
      ],
      "text/plain": [
       "<IPython.core.display.Markdown object>"
      ]
     },
     "metadata": {},
     "output_type": "display_data"
    }
   ],
   "source": [
    "from IPython.display import display, Markdown\n",
    "\n",
    "temp = \"> \" + example_content.replace(\"\\n\", \"\\n> \").replace(\"$\", \"\\\\\\\\$\")\n",
    "display(Markdown(temp))"
   ]
  }
 ],
 "metadata": {
  "kernelspec": {
   "display_name": "Python 3 (ipykernel)",
   "language": "python",
   "name": "python3"
  },
  "language_info": {
   "codemirror_mode": {
    "name": "ipython",
    "version": 3
   },
   "file_extension": ".py",
   "mimetype": "text/x-python",
   "name": "python",
   "nbconvert_exporter": "python",
   "pygments_lexer": "ipython3",
   "version": "3.12.1"
  }
 },
 "nbformat": 4,
 "nbformat_minor": 5
}
